{
 "cells": [
  {
   "cell_type": "code",
   "execution_count": 2,
   "source": [
    "import numpy as np\r\n",
    "import pandas as pd\r\n",
    "from sklearn.ensemble import RandomForestClassifier\r\n",
    "\r\n",
    "import os\r\n",
    "for dirname, _ , files in os.walk('Datasets'):\r\n",
    "    for file in files:\r\n",
    "        print(os.path.join(dirname, file))"
   ],
   "outputs": [
    {
     "output_type": "stream",
     "name": "stdout",
     "text": [
      "Datasets\\gender_submission.csv\n",
      "Datasets\\test.csv\n",
      "Datasets\\train.csv\n"
     ]
    }
   ],
   "metadata": {}
  },
  {
   "cell_type": "code",
   "execution_count": 3,
   "source": [
    "train_df = pd.read_csv(\"Datasets/train.csv\")\r\n",
    "test_df = pd.read_csv('Datasets/test.csv')\r\n",
    "gender_submission = pd.read_csv('Datasets/gender_submission.csv')"
   ],
   "outputs": [],
   "metadata": {}
  },
  {
   "cell_type": "markdown",
   "source": [
    "# Checking whether the subscription is accurate\r\n",
    "\r\n",
    "This Kaggle notebook came with a sample subcription for this model, in which it predicts the survival rate by sex. Following the exercises in the kaggle course, I will check the degree of accuracy of the predictions for this subscription first before going into the model."
   ],
   "metadata": {}
  },
  {
   "cell_type": "code",
   "execution_count": 4,
   "source": [
    "women_who_survived = train_df.loc[train_df.Sex == 'female']['Survived']\r\n",
    "women_survival_rate = sum(women_who_survived) / len(women_who_survived)\r\n",
    "print(f\"Women Survival Rate %: {women_survival_rate * 100:.2f}\")\r\n",
    "\r\n",
    "men_who_survived = train_df.loc[train_df.Sex == 'male']['Survived']\r\n",
    "men_survival_rate = sum(men_who_survived) / len(men_who_survived)\r\n",
    "print(f\"Women Survival Rate %: {men_survival_rate* 100:.2f}\")\r\n"
   ],
   "outputs": [
    {
     "output_type": "stream",
     "name": "stdout",
     "text": [
      "Women Survival Rate %: 74.20\n",
      "Women Survival Rate %: 18.89\n"
     ]
    }
   ],
   "metadata": {}
  },
  {
   "cell_type": "markdown",
   "source": [
    "## Exploring Data\r\n",
    "\r\n",
    "In this section I will be first exploring the datasets, in order to identify the presence of missing values, the features involved and how to interpret them.\r\n",
    "\r\n",
    "First, taking a look at both train and test dataframes to check if they have the same amount of columns and their sizes."
   ],
   "metadata": {}
  },
  {
   "cell_type": "code",
   "execution_count": 5,
   "source": [
    "train_rows, train_columns = len(train_df.index), len(train_df.columns)\r\n",
    "test_size, test_columns = len(test_df.index), len(test_df.columns)\r\n",
    "print(f\"Test has {test_size} rows and {test_columns} columns, while train has {train_rows} rows and {train_columns} columns\")"
   ],
   "outputs": [
    {
     "output_type": "stream",
     "name": "stdout",
     "text": [
      "Test has 418 rows and 11 columns, while train has 891 rows and 12 columns\n"
     ]
    }
   ],
   "metadata": {}
  },
  {
   "cell_type": "code",
   "execution_count": 6,
   "source": [
    "test_columns = test_df.columns.tolist()\r\n",
    "train_columns = train_df.columns.tolist()\r\n",
    "print(f\"Train Columns:{sorted(train_columns)}\\nTest Columns: {sorted(test_columns)}\")"
   ],
   "outputs": [
    {
     "output_type": "stream",
     "name": "stdout",
     "text": [
      "Train Columns:['Age', 'Cabin', 'Embarked', 'Fare', 'Name', 'Parch', 'PassengerId', 'Pclass', 'Sex', 'SibSp', 'Survived', 'Ticket']\n",
      "Test Columns: ['Age', 'Cabin', 'Embarked', 'Fare', 'Name', 'Parch', 'PassengerId', 'Pclass', 'Sex', 'SibSp', 'Ticket']\n"
     ]
    }
   ],
   "metadata": {}
  },
  {
   "cell_type": "markdown",
   "source": [
    "As usual, test doesn't have the target for the model. Since we are going to check for missing values for both datasets at once, by combining them, I may have to drop the target for the train dataset for this treatment."
   ],
   "metadata": {}
  },
  {
   "cell_type": "code",
   "execution_count": 7,
   "source": [
    "def append_data(df1: DataFrame, df2: DataFrame) -> DataFrame:\r\n",
    "    return pd.concat(df1, df2)"
   ],
   "outputs": [
    {
     "output_type": "error",
     "ename": "NameError",
     "evalue": "name 'DataFrame' is not defined",
     "traceback": [
      "\u001b[1;31m---------------------------------------------------------------------------\u001b[0m",
      "\u001b[1;31mNameError\u001b[0m                                 Traceback (most recent call last)",
      "\u001b[1;32m<ipython-input-7-a98d581fb75b>\u001b[0m in \u001b[0;36m<module>\u001b[1;34m\u001b[0m\n\u001b[1;32m----> 1\u001b[1;33m \u001b[1;32mdef\u001b[0m \u001b[0mappend_data\u001b[0m\u001b[1;33m(\u001b[0m\u001b[0mdf1\u001b[0m\u001b[1;33m:\u001b[0m \u001b[0mDataFrame\u001b[0m\u001b[1;33m,\u001b[0m \u001b[0mdf2\u001b[0m\u001b[1;33m:\u001b[0m \u001b[0mDataFrame\u001b[0m\u001b[1;33m)\u001b[0m \u001b[1;33m->\u001b[0m \u001b[0mDataFrame\u001b[0m\u001b[1;33m:\u001b[0m\u001b[1;33m\u001b[0m\u001b[1;33m\u001b[0m\u001b[0m\n\u001b[0m\u001b[0;32m      2\u001b[0m     \u001b[1;32mreturn\u001b[0m \u001b[0mpd\u001b[0m\u001b[1;33m.\u001b[0m\u001b[0mconcat\u001b[0m\u001b[1;33m(\u001b[0m\u001b[0mdf1\u001b[0m\u001b[1;33m,\u001b[0m \u001b[0mdf2\u001b[0m\u001b[1;33m)\u001b[0m\u001b[1;33m\u001b[0m\u001b[1;33m\u001b[0m\u001b[0m\n",
      "\u001b[1;31mNameError\u001b[0m: name 'DataFrame' is not defined"
     ]
    }
   ],
   "metadata": {}
  }
 ],
 "metadata": {
  "orig_nbformat": 4,
  "language_info": {
   "name": "python",
   "version": "3.8.5",
   "mimetype": "text/x-python",
   "codemirror_mode": {
    "name": "ipython",
    "version": 3
   },
   "pygments_lexer": "ipython3",
   "nbconvert_exporter": "python",
   "file_extension": ".py"
  },
  "kernelspec": {
   "name": "python3",
   "display_name": "Python 3.8.5 64-bit ('base': conda)"
  },
  "interpreter": {
   "hash": "af573f283834de0d94267a2f349eb6a57bfc80fc16df6f4176b3eb1c7a5367fc"
  }
 },
 "nbformat": 4,
 "nbformat_minor": 2
}